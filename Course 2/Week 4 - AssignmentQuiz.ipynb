{
 "cells": [
  {
   "cell_type": "code",
   "execution_count": 1,
   "metadata": {},
   "outputs": [
    {
     "data": {
      "text/html": [
       "<script>\n",
       "code_show=true; \n",
       "function code_toggle() {\n",
       " if (code_show){\n",
       " $('div.input').hide();\n",
       " } else {\n",
       " $('div.input').show();\n",
       " }\n",
       " code_show = !code_show\n",
       "} \n",
       "$( document ).ready(code_toggle);\n",
       "</script>\n",
       "<form action=\"javascript:code_toggle()\">\n",
       "<input type=\"submit\" value=\"Click here to toggle on/off the raw code.\"></form>"
      ],
      "text/plain": [
       "<IPython.core.display.HTML object>"
      ]
     },
     "execution_count": 1,
     "metadata": {},
     "output_type": "execute_result"
    }
   ],
   "source": [
    "from IPython.display import HTML\n",
    "\n",
    "HTML('''<script>\n",
    "code_show=true; \n",
    "function code_toggle() {\n",
    " if (code_show){\n",
    " $('div.input').hide();\n",
    " } else {\n",
    " $('div.input').show();\n",
    " }\n",
    " code_show = !code_show\n",
    "} \n",
    "$( document ).ready(code_toggle);\n",
    "</script>\n",
    "<form action=\"javascript:code_toggle()\">\n",
    "<input type=\"submit\" value=\"Click here to toggle on/off the raw code.\"></form>''')"
   ]
  },
  {
   "cell_type": "markdown",
   "metadata": {},
   "source": [
    "# Week 4 Item-Based CF"
   ]
  },
  {
   "cell_type": "markdown",
   "metadata": {},
   "source": [
    "In the [spreadsheet](https://d396qusza40orc.cloudfront.net/umntestsite/on-demand_files/A5/Assignment%205.xls), you will find 4 sheets: \n",
    "- `Ratings` contains the raw rating data\n",
    "- `NormRatings` contains the normalized ratings (each rating adjusted with the user’s mean rating)\n",
    "- You will fill out `Matrix` with the similarities between all items\n",
    "- `FilterMatrix` is a filtered view of Matrix where all **negative similarities are clamped to 0** (to exclude negative similarities from the computation)\n",
    "\n",
    "The Ratings and NormRatings sheets also contain the L2 norm (Euclidean length, or square root of sum of squares) of each movie’s ratings.\n",
    "\n",
    "For each similarity variant, you will fill out the Matrix sheet; use the FilterMatrix sheet to compute recommendations.\n",
    "\n",
    "#### Similarity Functions\n",
    "Your core task in this assignment is to compute item similarities using 2 different similarity functions:\n",
    "\n",
    "- Cosine similarity between items using **raw (unnormalized)** ratings.\n",
    "- Cosine similarity using **adjusted (normalized)** ratings.\n",
    "\n",
    "For the numerator of the similarity, you will probably want to use the SUMPRODUCT function; the provided L2 norms will be useful for computing the denominators.\n",
    "\n",
    "#### Examples\n",
    "Here are some values to check your calculations:\n",
    "\n",
    "- Similarity between Toy Story and Star Wars, raw: 0.645\n",
    "- Similarity between Toy Story and Star Wars, normalized: -0.378"
   ]
  },
  {
   "cell_type": "code",
   "execution_count": 2,
   "metadata": {},
   "outputs": [],
   "source": [
    "import pandas as pd\n",
    "import numpy as np\n",
    "from sklearn.metrics.pairwise import cosine_similarity\n",
    "from collections import Counter \n",
    "\n",
    "Ratings_df = pd.read_csv('Assignment5_Ratings.csv').fillna(0)\n",
    "NormRatings_df = pd.read_csv('Assignment5_NormRatings.csv').fillna(0)"
   ]
  },
  {
   "cell_type": "code",
   "execution_count": 3,
   "metadata": {},
   "outputs": [],
   "source": [
    "movie1 = '1: Toy Story (1995)'\n",
    "movie2 = '1210: Star Wars: Episode VI - Return of the Jedi (1983)'\n",
    "# movie2 = '260: Star Wars: Episode IV - A New Hope (1977)'"
   ]
  },
  {
   "cell_type": "code",
   "execution_count": 4,
   "metadata": {},
   "outputs": [],
   "source": [
    "def cosine_calc(rating_df, movie1, movie2):\n",
    "    \"\"\" Return the consine similarity b/t 2 movies \n",
    "    Parameters:\n",
    "    -----------\n",
    "    rating_df: pd.DataFrame\n",
    "        can be Ratings_df or NormRatings_df\n",
    "        \n",
    "    movie1, movie2: String\n",
    "        movie names\n",
    "    \n",
    "    Returns:\n",
    "    --------\n",
    "    numerator/denominator: Float\n",
    "        Cosine similarity \n",
    "    \"\"\"\n",
    "    numerator = np.dot(rating_df[:-2][movie1].values, rating_df[:-2][movie2].values)\n",
    "    denominator = (rating_df.at[20, movie1]*rating_df.at[20, movie2])\n",
    "    return numerator/denominator\n",
    "\n",
    "    \n",
    "def neighbor_movie(rating_df):\n",
    "    \"\"\" create item-item sim matrix for each movie\n",
    "    Parameters:\n",
    "    -----------\n",
    "    rating_df: pd.DataFrame\n",
    "    \n",
    "    Returns:\n",
    "    --------\n",
    "    movie_matrix: pd.DataFrame\n",
    "    \"\"\"\n",
    "    movie_matrix = pd.DataFrame(index=all_movies)\n",
    "    for m1 in all_movies:\n",
    "        rating_list=[]\n",
    "        for m2 in all_movies:\n",
    "            rating_list.append(cosine_calc(rating_df, m1, m2))\n",
    "        movie_matrix[m1] = rating_list\n",
    "    return movie_matrix"
   ]
  },
  {
   "cell_type": "code",
   "execution_count": 5,
   "metadata": {},
   "outputs": [
    {
     "name": "stdout",
     "output_type": "stream",
     "text": [
      "Similarity between 1: Toy Story (1995) and 1210: Star Wars: Episode VI - Return of the Jedi (1983), Normed: -0.378\n"
     ]
    }
   ],
   "source": [
    "print(f'Similarity between {movie1} and {movie2}, Normed: {round(cosine_calc(NormRatings_df, movie1, movie2), 3)}')"
   ]
  },
  {
   "cell_type": "code",
   "execution_count": 6,
   "metadata": {},
   "outputs": [
    {
     "name": "stdout",
     "output_type": "stream",
     "text": [
      "Similarity between 1: Toy Story (1995) and 1210: Star Wars: Episode VI - Return of the Jedi (1983), raw: 0.645\n"
     ]
    }
   ],
   "source": [
    "print(f'Similarity between {movie1} and {movie2}, raw: {round(cosine_calc(Ratings_df, movie1, movie2), 3)}')"
   ]
  },
  {
   "cell_type": "markdown",
   "metadata": {},
   "source": [
    "#### Deliverables\n",
    "The output you are supposed to turn in consists of 2 parts. For each part, submit both unnormalized and normalized results.\n",
    "\n",
    "- Top 5 Toy Story\n",
    "\n",
    "Provide 5 movies most similar to Toy Story, in decreasing order of similarity. Only provide the movie ID, not the title.\n",
    "\n",
    "![similarity_matrix_mean-centered](http://latex.codecogs.com/gif.latex?w_%7Bij%7D%3D%5Cfrac%7B%5Csum_%7Bu%7D%28%5Chat%7Br_%7Bui%7D%7D-%5Cbar%7Br%7D_%7Bi%7D%29%28%5Chat%7Br_%7Buj%7D%7D-%5Cbar%7Br%7D_%7Bj%7D%29%7D%7B%5Csqrt%7B%5Csum_%7Bu%7D%5Cleft%20%28r_%7Bui%7D%20-%5Cbar%7Br%7D_%7Bi%7D%20%5Cright%20%29%5E%7B2%7D%7D%20%5Csqrt%7B%5Csum_%7Bu%7D%5Cleft%20%28r_%7Buj%7D%20-%5Cbar%7Br%7D_%7Bj%7D%5Cright%20%29%5E%7B2%7D%7D%7D)"
   ]
  },
  {
   "cell_type": "code",
   "execution_count": 7,
   "metadata": {},
   "outputs": [],
   "source": [
    "all_movies = Ratings_df.columns[1:-3] # 20 moview\n",
    "all_users = Ratings_df['User'].values # 22 reviewers"
   ]
  },
  {
   "cell_type": "code",
   "execution_count": 11,
   "metadata": {},
   "outputs": [],
   "source": [
    "def top_5_movie(rating_df, movie1):\n",
    "    rating_dic={}\n",
    "    for m in Ratings_df.columns[1:-3]:\n",
    "        # rating_dic.update({m:cosine_calc(rating_df, movie1, m)})\n",
    "        rating_dic.update({m:cosine_calc(rating_df, movie1, m)})\n",
    "    for movie in sorted(rating_dic, key=rating_dic.get, reverse=True)[1:6]:\n",
    "        print(movie, round(rating_dic[movie],3))"
   ]
  },
  {
   "cell_type": "markdown",
   "metadata": {},
   "source": [
    "- Top 5 for User 5277\n",
    "\n",
    "Provide the top 5 recommended movies for user 5277, using an average of the user’s ratings weighted by similarity to each candidate movie. You do not need to exclude movies they have rated. **Consider all movies with nonnegative similarities (do not limit neighborhood size)**.\n",
    "\n",
    "\n",
    "\n",
    "# Raw\n",
    "Learnings:\n",
    "- All raw/non-normalized similarities are non-negative --> No need to worry about `max(0, weight)`\n",
    "- Only takes the rated movie list for calculations for this user"
   ]
  },
  {
   "cell_type": "markdown",
   "metadata": {},
   "source": [
    "most similar to toy story - raw"
   ]
  },
  {
   "cell_type": "code",
   "execution_count": 14,
   "metadata": {},
   "outputs": [
    {
     "name": "stdout",
     "output_type": "stream",
     "text": [
      "260: Star Wars: Episode IV - A New Hope (1977) 0.747\n",
      "780: Independence Day (ID4) (1996) 0.691\n",
      "296: Pulp Fiction (1994) 0.668\n",
      "318: Shawshank Redemption, The (1994) 0.667\n",
      "1265: Groundhog Day (1993) 0.661\n"
     ]
    }
   ],
   "source": [
    "top_5_movie(Ratings_df, movie1)"
   ]
  },
  {
   "cell_type": "code",
   "execution_count": 15,
   "metadata": {},
   "outputs": [
    {
     "data": {
      "text/plain": [
       "[(\"527: Schindler's List (1993)\", 2.9738833825906523),\n",
       " ('1259: Stand by Me (1986)', 2.9288008978650555),\n",
       " ('260: Star Wars: Episode IV - A New Hope (1977)', 2.922240134356363),\n",
       " ('593: Silence of the Lambs, The (1991)', 2.883304159274999),\n",
       " ('2396: Shakespeare in Love (1998)', 2.852130587479499)]"
      ]
     },
     "execution_count": 15,
     "metadata": {},
     "output_type": "execute_result"
    }
   ],
   "source": [
    "def user_movie_score_raw(userid):\n",
    "    \"\"\"Create matrix to predict score for each movie by each user\n",
    "    Parameters:\n",
    "    -----------\n",
    "    rating_df: pd.DataFrame\n",
    "        e.g. Rating_df or NormRating_df\n",
    "    \n",
    "    Returns: \n",
    "    --------\n",
    "    user_movie_score_df: pd.DataFrame\n",
    "        a matrix with predicted score for each movie by each user\n",
    "    \"\"\"\n",
    "    raw_rating_df = pd.read_csv('Assignment5_Ratings.csv')\n",
    "    # calculate item-item similarity matrix\n",
    "    movie_weight_df = neighbor_movie(raw_rating_df.fillna(0))\n",
    "    # list of movies that user rated \n",
    "    rated = raw_rating_df.columns \\\n",
    "                    [raw_rating_df[raw_rating_df['User']==userid].notnull().any()].tolist()\n",
    "    rated.remove('User')\n",
    "    rated.remove('Mean') # cleanup rated movie list by removing non-movie cols\n",
    "    pred_score_dict = {}\n",
    "    for movie_j in rated:\n",
    "        # user 755 ratings to rated movies \n",
    "        x = Ratings_df[Ratings_df['User']==userid][rated].values[0] \n",
    "        # movie_j similarity to all other movies - weights \n",
    "        y = movie_weight_df[movie_j][rated].values \n",
    "        pred_score_dict.update({movie_j: np.dot(x, y)/np.sum(y)})\n",
    "    return pred_score_dict\n",
    "\n",
    "\n",
    "Counter(user_movie_score_raw('5277')).most_common(5)"
   ]
  },
  {
   "cell_type": "markdown",
   "metadata": {},
   "source": [
    "\n",
    "# Norm"
   ]
  },
  {
   "cell_type": "markdown",
   "metadata": {},
   "source": [
    "most similar to toy story - normed"
   ]
  },
  {
   "cell_type": "code",
   "execution_count": 16,
   "metadata": {},
   "outputs": [
    {
     "name": "stdout",
     "output_type": "stream",
     "text": [
      "34: Babe (1995) 0.554\n",
      "356: Forrest Gump (1994) 0.356\n",
      "296: Pulp Fiction (1994) 0.295\n",
      "318: Shawshank Redemption, The (1994) 0.216\n",
      "2028: Saving Private Ryan (1998) 0.193\n"
     ]
    }
   ],
   "source": [
    "# normed\n",
    "top_5_movie(NormRatings_df, movie1)"
   ]
  },
  {
   "cell_type": "markdown",
   "metadata": {},
   "source": [
    "![norm_score](http://latex.codecogs.com/gif.latex?S%5Cleft%20%28%20u%2C%20i%20%5Cright%20%29%20%3D%20%5Cfrac%7B%5Csum_%7Bj%5Cin%20N%5Cleft%20%28%20i%3B%20u%20%5Cright%20%29%7Dw_%7Bij%7D%5Cleft%20%28%20r_%7Buj%7D%20-%20%5Cbar%7Br_%7Bj%7D%7D%20%5Cright%20%29%7D%7B%5Csum_%7Bj%5Cin%20N%5Cleft%20%28%20i%3B%20u%20%5Cright%20%29%7D%5Cleft%20%7Cw_%7Bij%7D%20%5Cright%20%7C%7D%20&plus;%20%5Cbar%7Br_%7Bi%7D%7D)"
   ]
  },
  {
   "cell_type": "markdown",
   "metadata": {},
   "source": [
    "Not correct answer"
   ]
  },
  {
   "cell_type": "code",
   "execution_count": 17,
   "metadata": {},
   "outputs": [
    {
     "data": {
      "text/plain": [
       "[('260: Star Wars: Episode IV - A New Hope (1977)', 3.386263932479771),\n",
       " (\"527: Schindler's List (1993)\", 3.1636949134875296),\n",
       " ('593: Silence of the Lambs, The (1991)', 2.9074757020377135),\n",
       " ('1259: Stand by Me (1986)', 2.33468867340751),\n",
       " ('2396: Shakespeare in Love (1998)', 2.330016493299407)]"
      ]
     },
     "execution_count": 17,
     "metadata": {},
     "output_type": "execute_result"
    }
   ],
   "source": [
    "def user_movie_score_norm(userid):\n",
    "    \"\"\"Create matrix to predict score for each movie by each user\n",
    "    Parameters:\n",
    "    -----------\n",
    "    userid: String\n",
    "    \n",
    "    Returns: \n",
    "    --------\n",
    "    user_movie_score_df: pd.DataFrame\n",
    "        a matrix with predicted score for each movie by each user\n",
    "    \"\"\"\n",
    "    norm_rating_df = pd.read_csv('Assignment5_NormRatings.csv')\n",
    "    # calculate item-item similarity matrix\n",
    "    movie_weight_df = neighbor_movie(norm_rating_df)\n",
    "    # Consider all movies with nonnegative similarities \n",
    "    movie_weight_df = movie_weight_df.applymap(lambda x:max(0,x))\n",
    "    # list of movies that user rated \n",
    "    rated = norm_rating_df.columns \\\n",
    "                    [norm_rating_df[norm_rating_df['User']==userid].notnull().any()].tolist()\n",
    "    # cleanup rated movie list by removing non-movie cols\n",
    "    rated.remove('User')\n",
    "    # rated.remove('Mean') \n",
    "    pred_score_dict = {}\n",
    "    for movie_j in rated:\n",
    "        # user 755 ratings to rated movies \n",
    "        x = Ratings_df[Ratings_df['User']==userid][rated].values[0] \n",
    "        # movie_j similarity to all other movies - weights \n",
    "        y = movie_weight_df[movie_j][rated].values \n",
    "        pred_score_dict.update({movie_j: np.dot(x, y)/np.sum(y)})\n",
    "    return pred_score_dict\n",
    "\n",
    "\n",
    "Counter(user_movie_score_norm('5277')).most_common(5)"
   ]
  }
 ],
 "metadata": {
  "anaconda-cloud": {},
  "kernelspec": {
   "display_name": "Python 3",
   "language": "python",
   "name": "python3"
  },
  "language_info": {
   "codemirror_mode": {
    "name": "ipython",
    "version": 3
   },
   "file_extension": ".py",
   "mimetype": "text/x-python",
   "name": "python",
   "nbconvert_exporter": "python",
   "pygments_lexer": "ipython3",
   "version": "3.6.8"
  }
 },
 "nbformat": 4,
 "nbformat_minor": 2
}
