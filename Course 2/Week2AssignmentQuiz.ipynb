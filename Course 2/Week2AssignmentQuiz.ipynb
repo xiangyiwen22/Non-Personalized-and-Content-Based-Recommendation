{
 "cells": [
  {
   "cell_type": "code",
   "execution_count": 262,
   "metadata": {},
   "outputs": [
    {
     "data": {
      "text/html": [
       "<script>\n",
       "code_show=true; \n",
       "function code_toggle() {\n",
       " if (code_show){\n",
       " $('div.input').hide();\n",
       " } else {\n",
       " $('div.input').show();\n",
       " }\n",
       " code_show = !code_show\n",
       "} \n",
       "$( document ).ready(code_toggle);\n",
       "</script>\n",
       "<form action=\"javascript:code_toggle()\">\n",
       "<input type=\"submit\" value=\"Click here to toggle on/off the raw code.\"></form>"
      ],
      "text/plain": [
       "<IPython.core.display.HTML object>"
      ]
     },
     "execution_count": 262,
     "metadata": {},
     "output_type": "execute_result"
    }
   ],
   "source": [
    "from IPython.display import HTML\n",
    "\n",
    "HTML('''<script>\n",
    "code_show=true; \n",
    "function code_toggle() {\n",
    " if (code_show){\n",
    " $('div.input').hide();\n",
    " } else {\n",
    " $('div.input').show();\n",
    " }\n",
    " code_show = !code_show\n",
    "} \n",
    "$( document ).ready(code_toggle);\n",
    "</script>\n",
    "<form action=\"javascript:code_toggle()\">\n",
    "<input type=\"submit\" value=\"Click here to toggle on/off the raw code.\"></form>''')"
   ]
  },
  {
   "cell_type": "markdown",
   "metadata": {},
   "source": [
    "# Week 2 : User-User Collaborative Filtering Part 2 Assignment and Quiz\n",
    "In this assignment, you will implement user-user collaborative filtering using a spreadsheet. (We are using only basic spreadsheet operations that would work with Google's free Drive-based spreadsheet, Excel, or any other common spreadsheet program. We'll help you find the correct operations.)\n",
    "\n",
    "## Part 1 - Without Normalization\n",
    "### Step 1 Start by downloading the [starting spreadsheet](https://drive.google.com/file/d/0BxANCLmMqAyIQ0ZWSy1KNUI4RWc/view). \n",
    "This is a 25 user x 100 movie matrix of ratings selected from the class data set. The spreadsheet has three sheets in it (this is not supposed to be an exercise in spreadsheet tricks; as a result, we’ve already given you a significant start). 1) The first sheet is a ratings matrix with movies as rows and users as columns, 2) The second sheet is a ratings matrix with movies as columns and users as rows, and 3) The third sheet is the start of your correlations matrix."
   ]
  },
  {
   "cell_type": "code",
   "execution_count": 1,
   "metadata": {},
   "outputs": [],
   "source": [
    "import pandas as pd"
   ]
  },
  {
   "cell_type": "code",
   "execution_count": 237,
   "metadata": {},
   "outputs": [
    {
     "data": {
      "text/plain": [
       "(100, 26)"
      ]
     },
     "execution_count": 237,
     "metadata": {},
     "output_type": "execute_result"
    }
   ],
   "source": [
    "moview_row = pd.read_csv('movie_row.csv')\n",
    "moview_row.shape"
   ]
  },
  {
   "cell_type": "markdown",
   "metadata": {},
   "source": [
    "### Step 3 Complete the user-by-user correlations matrix. \n",
    "To check your math, note that the correlation between users 1648 and 5136 is 0.40298, and the correlation between users 918 and 2824 is -0.31706. All correlations should be between -1 and 1, and the diagonal should be all 1's (since they are self-correlations). <br>\n",
    "\n",
    "By default `DataFrame.corr(self, method='pearson', min_periods=1)` use **Pearson Correlation**, which only calculate over ratings in common. It's a problem when user X only has 1 rating and ended up with correlation as 1 with user Y, which doesn't mean the users are really similar. "
   ]
  },
  {
   "cell_type": "code",
   "execution_count": 5,
   "metadata": {},
   "outputs": [],
   "source": [
    "corr_df = moview_row.corr()"
   ]
  },
  {
   "cell_type": "code",
   "execution_count": 226,
   "metadata": {},
   "outputs": [
    {
     "data": {
      "text/plain": [
       "0.4029801884569963"
      ]
     },
     "execution_count": 226,
     "metadata": {},
     "output_type": "execute_result"
    }
   ],
   "source": [
    "corr_df.at['5136', '1648']"
   ]
  },
  {
   "cell_type": "markdown",
   "metadata": {},
   "source": [
    "### Step 4 Identify the top 5 neighbors\n",
    "\n",
    "Identify the top 5 neighbors (the users with the 5 largest, positive correlations) for users 3867 and 89. For example, if the target user were #3712, the closest neighbors are 2824 (corr: 0.46291), 3867 (corr: 0.400275), 5062 (corr: 0.247693), 442 (corr: 0.22713), and 3853 (corr: 0.19366). Don't forget to exclude the target user (corr: 1.0) from your possible selections."
   ]
  },
  {
   "cell_type": "code",
   "execution_count": 33,
   "metadata": {},
   "outputs": [],
   "source": [
    "def top_n_neighbors(user, top_n):\n",
    "    \"\"\"\n",
    "    Parameters\n",
    "    ----------\n",
    "    user: String\n",
    "        e.g. '3712'\n",
    "    top_n: int\n",
    "    \n",
    "    Returns\n",
    "    -------\n",
    "    pandas.core.series.Series\n",
    "    top n user and their corr values\n",
    "    \n",
    "    \"\"\"\n",
    "    return corr_df.nlargest(top_n, [user])[user].drop(user)"
   ]
  },
  {
   "cell_type": "code",
   "execution_count": 225,
   "metadata": {},
   "outputs": [
    {
     "data": {
      "text/plain": [
       "2824    0.462910\n",
       "3867    0.400275\n",
       "5062    0.247693\n",
       "442     0.227130\n",
       "3853    0.193660\n",
       "Name: 3712, dtype: float64"
      ]
     },
     "execution_count": 225,
     "metadata": {},
     "output_type": "execute_result"
    }
   ],
   "source": [
    "top_n_neighbors('3712', 6)"
   ]
  },
  {
   "cell_type": "markdown",
   "metadata": {},
   "source": [
    "### Step 5 - Compute the predictions for each movie for one user\n",
    "Compute the predictions for each movie for users 3867 and 89 by taking the correlation-weighted average of the ratings of the top-five neighbors (for each target user) for each movie. The formal formula for correlation-weighted average is <br>\n",
    "\n",
    "## $ \\frac{\\sum_{5}^{n=1}r_{n}w_{n}}{\\sum_{5}^{n=1}w_{n}} $ <br> \n",
    "\n",
    "Remember, you will need to make sure that your weight for each contributed rating is the `user-user correlation` when that neighbor has rated the movie, but `0` when the neighbor has not rated the movie (note the same for weight in denominator).\n",
    "\n",
    "\n",
    "### Step 6 - Implement for quiz\n",
    "Submit 12 values for this assignment as indicated below. You will be submitting the top three movie IDs and the predicted ratings (to three decimal places) for each user. In a real recommender system, we’d be excluding movies the user has already rated, but do not do this here. Indeed, you should look to see what the user’s rating (if any) is for the top-recommended movies. For example, if the user ID was 3712, the correct submission would be:\n",
    "- Top Movie: 641 Prediction: 5.000\n",
    "- 2nd Movie: 603 Prediction: 4.856\n",
    "- 3rd Movie: 105 Prediction: 4.739 \n",
    "\n",
    "And if the user ID were 3525, there would be a three-way tie among:\n",
    "Movies: 238, 194, and 38 (all with a prediction of 5.000)"
   ]
  },
  {
   "cell_type": "code",
   "execution_count": 258,
   "metadata": {},
   "outputs": [],
   "source": [
    "def pred_rating(userid, moview_row):\n",
    "    top_n = top_n_neighbors(userid, 6)\n",
    "    pred_df = moview_row[['Unnamed: 0']+top_n.index.tolist()].copy()\n",
    "    pred_df['numerator'] = pred_df[top_n.index.tolist()].fillna(0).dot(top_n)\n",
    "    # include this neighbor's weight in denominator only when this neighbor rated this movie\n",
    "    pred_df['denominator'] = pred_df[top_n.index.tolist()].notnull().dot(top_n)\n",
    "    pred_df['pred'] = (pred_df['numerator']/pred_df['denominator']).round(3)\n",
    "    return pred_df.nlargest(3, 'pred')"
   ]
  },
  {
   "cell_type": "markdown",
   "metadata": {},
   "source": [
    "## Part 2 - Normalization\n",
    "Next, you will repeat the computation but this time you will normalize the scores to adjust for different users’ rating scales.\n",
    "\n",
    "### Step 1 - Repeat step 5 from part 1. This time, however, use the normalization formula: <br>\n",
    "\n",
    "## $ \\bar{r_{u}}+\\frac{\\sum_{5}^{n=1}(r_{n}-\\bar{r_{n}})w_{n}}{\\sum_{5}^{n=1}w_{n}} $ <br>\n",
    "\n",
    "Note: These two normalize the computation to adjust for different users’ rating scales.\n",
    "## $ \\bar{r_{u}} $ avg rating of the neighbor \n",
    "## $ \\bar{r_{n}} $ avg rating of the target user \n",
    "\n",
    "\n",
    "### Step 2 - Implement for quiz\n",
    "Submit 12 values for this assignment as indicated below. You will be submitting the top three movie IDs and the predicted ratings (to three decimal places) for users 3867 and 89. In a real recommender system, we’d be excluding movies the user has already rated, but do not do this here. Remember, you do not need to re-compute the correlations, just use the existing correlations but normalize the ratings being averaged by subtracting each neighbor’s mean rating from each of their ratings (and add the target user’s mean back into the total). <br>\n",
    "For example, if the user ID was 3712, the correct submission would be:\n",
    "- Top Movie: 641 Prediction: 5.900\n",
    "- 2nd Movie: 603 Prediction: 5.546\n",
    "- 3rd Movie: 105 Prediction: 5.501"
   ]
  },
  {
   "cell_type": "markdown",
   "metadata": {},
   "source": [
    "Similar top 3 movies for user `3712` w/ or w/o normalization. **Note that it is possible to have movie predictions outside the five-star scale; in this case this is because `3712` rates movies very high to begin with, and his/her neighbors have wider ranges (and think these movies are very high in those ranges).** <br>\n",
    "\n",
    "**Also, these top movie predictions are interesting in other ways. The top movie was only rated by one neighbor, but was so highly rated (1.4 above mean) that it stands out. **"
   ]
  },
  {
   "cell_type": "code",
   "execution_count": 280,
   "metadata": {},
   "outputs": [],
   "source": [
    "def pred_rating_norm(userid, moview_row):\n",
    "    top_n = top_n_neighbors(userid, 6)\n",
    "    ru = moview_row[userid].mean()\n",
    "    print(f'User {userid} has a mean rating {ru.round(2)}')\n",
    "    pred_df = moview_row[['Unnamed: 0']+top_n.index.tolist()].copy()\n",
    "    pred_df['numerator'] = pred_df[top_n.index.tolist()] \\\n",
    "                        .sub(pred_df[top_n.index.tolist()].mean(axis=0),axis=1).fillna(0).dot(top_n)\n",
    "    # include this neighbor's weight in denominator only when this neighbor rated this movie\n",
    "    pred_df['denominator'] = pred_df[top_n.index.tolist()].notnull().dot(top_n)\n",
    "    pred_df['pred'] = (ru+(pred_df['numerator']/pred_df['denominator'])).round(3)\n",
    "    return pred_df.nlargest(3, 'pred')"
   ]
  },
  {
   "cell_type": "code",
   "execution_count": 281,
   "metadata": {},
   "outputs": [
    {
     "name": "stdout",
     "output_type": "stream",
     "text": [
      "User 3712 w/o norm\n"
     ]
    },
    {
     "data": {
      "text/html": [
       "<div>\n",
       "<style scoped>\n",
       "    .dataframe tbody tr th:only-of-type {\n",
       "        vertical-align: middle;\n",
       "    }\n",
       "\n",
       "    .dataframe tbody tr th {\n",
       "        vertical-align: top;\n",
       "    }\n",
       "\n",
       "    .dataframe thead th {\n",
       "        text-align: right;\n",
       "    }\n",
       "</style>\n",
       "<table border=\"1\" class=\"dataframe\">\n",
       "  <thead>\n",
       "    <tr style=\"text-align: right;\">\n",
       "      <th></th>\n",
       "      <th>Unnamed: 0</th>\n",
       "      <th>2824</th>\n",
       "      <th>3867</th>\n",
       "      <th>5062</th>\n",
       "      <th>442</th>\n",
       "      <th>3853</th>\n",
       "      <th>numerator</th>\n",
       "      <th>denominator</th>\n",
       "      <th>pred</th>\n",
       "    </tr>\n",
       "  </thead>\n",
       "  <tbody>\n",
       "    <tr>\n",
       "      <td>55</td>\n",
       "      <td>641: Requiem for a Dream (2000)</td>\n",
       "      <td>NaN</td>\n",
       "      <td>NaN</td>\n",
       "      <td>NaN</td>\n",
       "      <td>5.0</td>\n",
       "      <td>NaN</td>\n",
       "      <td>1.135649</td>\n",
       "      <td>0.227130</td>\n",
       "      <td>5.000</td>\n",
       "    </tr>\n",
       "    <tr>\n",
       "      <td>50</td>\n",
       "      <td>603: The Matrix (1999)</td>\n",
       "      <td>5.0</td>\n",
       "      <td>5.0</td>\n",
       "      <td>4.5</td>\n",
       "      <td>5.0</td>\n",
       "      <td>4.5</td>\n",
       "      <td>7.437660</td>\n",
       "      <td>1.531667</td>\n",
       "      <td>4.856</td>\n",
       "    </tr>\n",
       "    <tr>\n",
       "      <td>11</td>\n",
       "      <td>105: Back to the Future (1985)</td>\n",
       "      <td>NaN</td>\n",
       "      <td>NaN</td>\n",
       "      <td>4.5</td>\n",
       "      <td>5.0</td>\n",
       "      <td>NaN</td>\n",
       "      <td>2.250269</td>\n",
       "      <td>0.474823</td>\n",
       "      <td>4.739</td>\n",
       "    </tr>\n",
       "  </tbody>\n",
       "</table>\n",
       "</div>"
      ],
      "text/plain": [
       "                         Unnamed: 0  2824  3867  5062  442  3853  numerator  \\\n",
       "55  641: Requiem for a Dream (2000)   NaN   NaN   NaN  5.0   NaN   1.135649   \n",
       "50           603: The Matrix (1999)   5.0   5.0   4.5  5.0   4.5   7.437660   \n",
       "11   105: Back to the Future (1985)   NaN   NaN   4.5  5.0   NaN   2.250269   \n",
       "\n",
       "    denominator   pred  \n",
       "55     0.227130  5.000  \n",
       "50     1.531667  4.856  \n",
       "11     0.474823  4.739  "
      ]
     },
     "execution_count": 281,
     "metadata": {},
     "output_type": "execute_result"
    }
   ],
   "source": [
    "print(f'User 3712 w/o norm')\n",
    "pred_rating('3712', moview_row)"
   ]
  },
  {
   "cell_type": "code",
   "execution_count": 285,
   "metadata": {},
   "outputs": [
    {
     "name": "stdout",
     "output_type": "stream",
     "text": [
      "User 3712 w/ norm\n",
      "User 3712 has a mean rating 4.5\n"
     ]
    },
    {
     "data": {
      "text/html": [
       "<div>\n",
       "<style scoped>\n",
       "    .dataframe tbody tr th:only-of-type {\n",
       "        vertical-align: middle;\n",
       "    }\n",
       "\n",
       "    .dataframe tbody tr th {\n",
       "        vertical-align: top;\n",
       "    }\n",
       "\n",
       "    .dataframe thead th {\n",
       "        text-align: right;\n",
       "    }\n",
       "</style>\n",
       "<table border=\"1\" class=\"dataframe\">\n",
       "  <thead>\n",
       "    <tr style=\"text-align: right;\">\n",
       "      <th></th>\n",
       "      <th>Unnamed: 0</th>\n",
       "      <th>2824</th>\n",
       "      <th>3867</th>\n",
       "      <th>5062</th>\n",
       "      <th>442</th>\n",
       "      <th>3853</th>\n",
       "      <th>numerator</th>\n",
       "      <th>denominator</th>\n",
       "      <th>pred</th>\n",
       "    </tr>\n",
       "  </thead>\n",
       "  <tbody>\n",
       "    <tr>\n",
       "      <td>55</td>\n",
       "      <td>641: Requiem for a Dream (2000)</td>\n",
       "      <td>NaN</td>\n",
       "      <td>NaN</td>\n",
       "      <td>NaN</td>\n",
       "      <td>5.0</td>\n",
       "      <td>NaN</td>\n",
       "      <td>0.317982</td>\n",
       "      <td>0.227130</td>\n",
       "      <td>5.900</td>\n",
       "    </tr>\n",
       "    <tr>\n",
       "      <td>50</td>\n",
       "      <td>603: The Matrix (1999)</td>\n",
       "      <td>5.0</td>\n",
       "      <td>5.0</td>\n",
       "      <td>4.5</td>\n",
       "      <td>5.0</td>\n",
       "      <td>4.5</td>\n",
       "      <td>1.601460</td>\n",
       "      <td>1.531667</td>\n",
       "      <td>5.546</td>\n",
       "    </tr>\n",
       "    <tr>\n",
       "      <td>11</td>\n",
       "      <td>105: Back to the Future (1985)</td>\n",
       "      <td>NaN</td>\n",
       "      <td>NaN</td>\n",
       "      <td>4.5</td>\n",
       "      <td>5.0</td>\n",
       "      <td>NaN</td>\n",
       "      <td>0.475101</td>\n",
       "      <td>0.474823</td>\n",
       "      <td>5.501</td>\n",
       "    </tr>\n",
       "  </tbody>\n",
       "</table>\n",
       "</div>"
      ],
      "text/plain": [
       "                         Unnamed: 0  2824  3867  5062  442  3853  numerator  \\\n",
       "55  641: Requiem for a Dream (2000)   NaN   NaN   NaN  5.0   NaN   0.317982   \n",
       "50           603: The Matrix (1999)   5.0   5.0   4.5  5.0   4.5   1.601460   \n",
       "11   105: Back to the Future (1985)   NaN   NaN   4.5  5.0   NaN   0.475101   \n",
       "\n",
       "    denominator   pred  \n",
       "55     0.227130  5.900  \n",
       "50     1.531667  5.546  \n",
       "11     0.474823  5.501  "
      ]
     },
     "execution_count": 285,
     "metadata": {},
     "output_type": "execute_result"
    }
   ],
   "source": [
    "print(f'User 3712 w/ norm')\n",
    "pred_rating_norm('3712', moview_row)"
   ]
  },
  {
   "cell_type": "markdown",
   "metadata": {},
   "source": [
    "Compare `3525` with and without normalization. Note how only one of these three `238: The Godfather (1972)` is the same as from the top three without normalization! And notice that the (perhaps surprisingly) strong prediction for `134: O Brother Where Art Thou? (2000)` is again the result of having just a single neighbor’s rating (and that being a neighbor who really liked the movie)."
   ]
  },
  {
   "cell_type": "code",
   "execution_count": 286,
   "metadata": {},
   "outputs": [
    {
     "name": "stdout",
     "output_type": "stream",
     "text": [
      "User 3525 w/o norm\n"
     ]
    },
    {
     "data": {
      "text/html": [
       "<div>\n",
       "<style scoped>\n",
       "    .dataframe tbody tr th:only-of-type {\n",
       "        vertical-align: middle;\n",
       "    }\n",
       "\n",
       "    .dataframe tbody tr th {\n",
       "        vertical-align: top;\n",
       "    }\n",
       "\n",
       "    .dataframe thead th {\n",
       "        text-align: right;\n",
       "    }\n",
       "</style>\n",
       "<table border=\"1\" class=\"dataframe\">\n",
       "  <thead>\n",
       "    <tr style=\"text-align: right;\">\n",
       "      <th></th>\n",
       "      <th>Unnamed: 0</th>\n",
       "      <th>3556</th>\n",
       "      <th>89</th>\n",
       "      <th>860</th>\n",
       "      <th>918</th>\n",
       "      <th>5136</th>\n",
       "      <th>numerator</th>\n",
       "      <th>denominator</th>\n",
       "      <th>pred</th>\n",
       "    </tr>\n",
       "  </thead>\n",
       "  <tbody>\n",
       "    <tr>\n",
       "      <td>6</td>\n",
       "      <td>38: Eternal Sunshine of the Spotless Mind (2004)</td>\n",
       "      <td>NaN</td>\n",
       "      <td>5.0</td>\n",
       "      <td>NaN</td>\n",
       "      <td>5.0</td>\n",
       "      <td>5.0</td>\n",
       "      <td>6.015594</td>\n",
       "      <td>1.203119</td>\n",
       "      <td>5.0</td>\n",
       "    </tr>\n",
       "    <tr>\n",
       "      <td>25</td>\n",
       "      <td>194: Amelie (2001)</td>\n",
       "      <td>NaN</td>\n",
       "      <td>5.0</td>\n",
       "      <td>NaN</td>\n",
       "      <td>NaN</td>\n",
       "      <td>5.0</td>\n",
       "      <td>4.177756</td>\n",
       "      <td>0.835551</td>\n",
       "      <td>5.0</td>\n",
       "    </tr>\n",
       "    <tr>\n",
       "      <td>27</td>\n",
       "      <td>238: The Godfather (1972)</td>\n",
       "      <td>5.0</td>\n",
       "      <td>5.0</td>\n",
       "      <td>5.0</td>\n",
       "      <td>NaN</td>\n",
       "      <td>5.0</td>\n",
       "      <td>8.491973</td>\n",
       "      <td>1.698395</td>\n",
       "      <td>5.0</td>\n",
       "    </tr>\n",
       "  </tbody>\n",
       "</table>\n",
       "</div>"
      ],
      "text/plain": [
       "                                          Unnamed: 0  3556   89  860  918  \\\n",
       "6   38: Eternal Sunshine of the Spotless Mind (2004)   NaN  5.0  NaN  5.0   \n",
       "25                                194: Amelie (2001)   NaN  5.0  NaN  NaN   \n",
       "27                         238: The Godfather (1972)   5.0  5.0  5.0  NaN   \n",
       "\n",
       "    5136  numerator  denominator  pred  \n",
       "6    5.0   6.015594     1.203119   5.0  \n",
       "25   5.0   4.177756     0.835551   5.0  \n",
       "27   5.0   8.491973     1.698395   5.0  "
      ]
     },
     "execution_count": 286,
     "metadata": {},
     "output_type": "execute_result"
    }
   ],
   "source": [
    "print(f'User 3525 w/o norm')\n",
    "pred_rating('3525', moview_row)"
   ]
  },
  {
   "cell_type": "code",
   "execution_count": 287,
   "metadata": {},
   "outputs": [
    {
     "name": "stdout",
     "output_type": "stream",
     "text": [
      "User 3525 w/ norm\n",
      "User 3525 has a mean rating 3.71\n"
     ]
    },
    {
     "data": {
      "text/html": [
       "<div>\n",
       "<style scoped>\n",
       "    .dataframe tbody tr th:only-of-type {\n",
       "        vertical-align: middle;\n",
       "    }\n",
       "\n",
       "    .dataframe tbody tr th {\n",
       "        vertical-align: top;\n",
       "    }\n",
       "\n",
       "    .dataframe thead th {\n",
       "        text-align: right;\n",
       "    }\n",
       "</style>\n",
       "<table border=\"1\" class=\"dataframe\">\n",
       "  <thead>\n",
       "    <tr style=\"text-align: right;\">\n",
       "      <th></th>\n",
       "      <th>Unnamed: 0</th>\n",
       "      <th>3556</th>\n",
       "      <th>89</th>\n",
       "      <th>860</th>\n",
       "      <th>918</th>\n",
       "      <th>5136</th>\n",
       "      <th>numerator</th>\n",
       "      <th>denominator</th>\n",
       "      <th>pred</th>\n",
       "    </tr>\n",
       "  </thead>\n",
       "  <tbody>\n",
       "    <tr>\n",
       "      <td>27</td>\n",
       "      <td>238: The Godfather (1972)</td>\n",
       "      <td>5.0</td>\n",
       "      <td>5.0</td>\n",
       "      <td>5.0</td>\n",
       "      <td>NaN</td>\n",
       "      <td>5.0</td>\n",
       "      <td>1.776457</td>\n",
       "      <td>1.698395</td>\n",
       "      <td>4.760</td>\n",
       "    </tr>\n",
       "    <tr>\n",
       "      <td>38</td>\n",
       "      <td>424: Schindler's List (1993)</td>\n",
       "      <td>5.0</td>\n",
       "      <td>NaN</td>\n",
       "      <td>NaN</td>\n",
       "      <td>NaN</td>\n",
       "      <td>4.5</td>\n",
       "      <td>0.793736</td>\n",
       "      <td>0.835767</td>\n",
       "      <td>4.663</td>\n",
       "    </tr>\n",
       "    <tr>\n",
       "      <td>17</td>\n",
       "      <td>134: O Brother Where Art Thou? (2000)</td>\n",
       "      <td>4.5</td>\n",
       "      <td>NaN</td>\n",
       "      <td>NaN</td>\n",
       "      <td>NaN</td>\n",
       "      <td>NaN</td>\n",
       "      <td>0.414722</td>\n",
       "      <td>0.475711</td>\n",
       "      <td>4.585</td>\n",
       "    </tr>\n",
       "  </tbody>\n",
       "</table>\n",
       "</div>"
      ],
      "text/plain": [
       "                               Unnamed: 0  3556   89  860  918  5136  \\\n",
       "27              238: The Godfather (1972)   5.0  5.0  5.0  NaN   5.0   \n",
       "38           424: Schindler's List (1993)   5.0  NaN  NaN  NaN   4.5   \n",
       "17  134: O Brother Where Art Thou? (2000)   4.5  NaN  NaN  NaN   NaN   \n",
       "\n",
       "    numerator  denominator   pred  \n",
       "27   1.776457     1.698395  4.760  \n",
       "38   0.793736     0.835767  4.663  \n",
       "17   0.414722     0.475711  4.585  "
      ]
     },
     "execution_count": 287,
     "metadata": {},
     "output_type": "execute_result"
    }
   ],
   "source": [
    "print(f'User 3525 w/ norm')\n",
    "pred_rating_norm('3525', moview_row)"
   ]
  },
  {
   "cell_type": "code",
   "execution_count": 288,
   "metadata": {},
   "outputs": [
    {
     "name": "stdout",
     "output_type": "stream",
     "text": [
      "User 3867 w/o norm\n"
     ]
    },
    {
     "data": {
      "text/html": [
       "<div>\n",
       "<style scoped>\n",
       "    .dataframe tbody tr th:only-of-type {\n",
       "        vertical-align: middle;\n",
       "    }\n",
       "\n",
       "    .dataframe tbody tr th {\n",
       "        vertical-align: top;\n",
       "    }\n",
       "\n",
       "    .dataframe thead th {\n",
       "        text-align: right;\n",
       "    }\n",
       "</style>\n",
       "<table border=\"1\" class=\"dataframe\">\n",
       "  <thead>\n",
       "    <tr style=\"text-align: right;\">\n",
       "      <th></th>\n",
       "      <th>Unnamed: 0</th>\n",
       "      <th>2492</th>\n",
       "      <th>3853</th>\n",
       "      <th>2486</th>\n",
       "      <th>3712</th>\n",
       "      <th>2288</th>\n",
       "      <th>numerator</th>\n",
       "      <th>denominator</th>\n",
       "      <th>pred</th>\n",
       "    </tr>\n",
       "  </thead>\n",
       "  <tbody>\n",
       "    <tr>\n",
       "      <td>77</td>\n",
       "      <td>1891: Star Wars: Episode V - The Empire Strike...</td>\n",
       "      <td>5.0</td>\n",
       "      <td>NaN</td>\n",
       "      <td>4.5</td>\n",
       "      <td>NaN</td>\n",
       "      <td>NaN</td>\n",
       "      <td>4.358878</td>\n",
       "      <td>0.915675</td>\n",
       "      <td>4.760</td>\n",
       "    </tr>\n",
       "    <tr>\n",
       "      <td>21</td>\n",
       "      <td>155: The Dark Knight (2008)</td>\n",
       "      <td>5.0</td>\n",
       "      <td>5.0</td>\n",
       "      <td>4.5</td>\n",
       "      <td>NaN</td>\n",
       "      <td>3.5</td>\n",
       "      <td>8.008926</td>\n",
       "      <td>1.759641</td>\n",
       "      <td>4.551</td>\n",
       "    </tr>\n",
       "    <tr>\n",
       "      <td>16</td>\n",
       "      <td>122: The Lord of the Rings: The Return of the ...</td>\n",
       "      <td>5.0</td>\n",
       "      <td>4.0</td>\n",
       "      <td>4.5</td>\n",
       "      <td>5.0</td>\n",
       "      <td>4.0</td>\n",
       "      <td>9.736117</td>\n",
       "      <td>2.159916</td>\n",
       "      <td>4.508</td>\n",
       "    </tr>\n",
       "  </tbody>\n",
       "</table>\n",
       "</div>"
      ],
      "text/plain": [
       "                                           Unnamed: 0  2492  3853  2486  3712  \\\n",
       "77  1891: Star Wars: Episode V - The Empire Strike...   5.0   NaN   4.5   NaN   \n",
       "21                        155: The Dark Knight (2008)   5.0   5.0   4.5   NaN   \n",
       "16  122: The Lord of the Rings: The Return of the ...   5.0   4.0   4.5   5.0   \n",
       "\n",
       "    2288  numerator  denominator   pred  \n",
       "77   NaN   4.358878     0.915675  4.760  \n",
       "21   3.5   8.008926     1.759641  4.551  \n",
       "16   4.0   9.736117     2.159916  4.508  "
      ]
     },
     "execution_count": 288,
     "metadata": {},
     "output_type": "execute_result"
    }
   ],
   "source": [
    "print(f'User 3867 w/o norm')\n",
    "pred_rating('3867', moview_row)"
   ]
  },
  {
   "cell_type": "code",
   "execution_count": 289,
   "metadata": {},
   "outputs": [
    {
     "name": "stdout",
     "output_type": "stream",
     "text": [
      "User 3867 w/ norm\n",
      "User 3867 has a mean rating 3.66\n"
     ]
    },
    {
     "data": {
      "text/html": [
       "<div>\n",
       "<style scoped>\n",
       "    .dataframe tbody tr th:only-of-type {\n",
       "        vertical-align: middle;\n",
       "    }\n",
       "\n",
       "    .dataframe tbody tr th {\n",
       "        vertical-align: top;\n",
       "    }\n",
       "\n",
       "    .dataframe thead th {\n",
       "        text-align: right;\n",
       "    }\n",
       "</style>\n",
       "<table border=\"1\" class=\"dataframe\">\n",
       "  <thead>\n",
       "    <tr style=\"text-align: right;\">\n",
       "      <th></th>\n",
       "      <th>Unnamed: 0</th>\n",
       "      <th>2492</th>\n",
       "      <th>3853</th>\n",
       "      <th>2486</th>\n",
       "      <th>3712</th>\n",
       "      <th>2288</th>\n",
       "      <th>numerator</th>\n",
       "      <th>denominator</th>\n",
       "      <th>pred</th>\n",
       "    </tr>\n",
       "  </thead>\n",
       "  <tbody>\n",
       "    <tr>\n",
       "      <td>77</td>\n",
       "      <td>1891: Star Wars: Episode V - The Empire Strike...</td>\n",
       "      <td>5.0</td>\n",
       "      <td>NaN</td>\n",
       "      <td>4.5</td>\n",
       "      <td>NaN</td>\n",
       "      <td>NaN</td>\n",
       "      <td>1.450402</td>\n",
       "      <td>0.915675</td>\n",
       "      <td>5.246</td>\n",
       "    </tr>\n",
       "    <tr>\n",
       "      <td>21</td>\n",
       "      <td>155: The Dark Knight (2008)</td>\n",
       "      <td>5.0</td>\n",
       "      <td>5.0</td>\n",
       "      <td>4.5</td>\n",
       "      <td>NaN</td>\n",
       "      <td>3.5</td>\n",
       "      <td>2.103179</td>\n",
       "      <td>1.759641</td>\n",
       "      <td>4.857</td>\n",
       "    </tr>\n",
       "    <tr>\n",
       "      <td>8</td>\n",
       "      <td>77: Memento (2000)</td>\n",
       "      <td>4.0</td>\n",
       "      <td>4.5</td>\n",
       "      <td>4.5</td>\n",
       "      <td>NaN</td>\n",
       "      <td>5.0</td>\n",
       "      <td>1.964225</td>\n",
       "      <td>1.759641</td>\n",
       "      <td>4.778</td>\n",
       "    </tr>\n",
       "  </tbody>\n",
       "</table>\n",
       "</div>"
      ],
      "text/plain": [
       "                                           Unnamed: 0  2492  3853  2486  3712  \\\n",
       "77  1891: Star Wars: Episode V - The Empire Strike...   5.0   NaN   4.5   NaN   \n",
       "21                        155: The Dark Knight (2008)   5.0   5.0   4.5   NaN   \n",
       "8                                  77: Memento (2000)   4.0   4.5   4.5   NaN   \n",
       "\n",
       "    2288  numerator  denominator   pred  \n",
       "77   NaN   1.450402     0.915675  5.246  \n",
       "21   3.5   2.103179     1.759641  4.857  \n",
       "8    5.0   1.964225     1.759641  4.778  "
      ]
     },
     "execution_count": 289,
     "metadata": {},
     "output_type": "execute_result"
    }
   ],
   "source": [
    "print(f'User 3867 w/ norm')\n",
    "pred_rating_norm('3867', moview_row)"
   ]
  },
  {
   "cell_type": "code",
   "execution_count": 290,
   "metadata": {},
   "outputs": [
    {
     "name": "stdout",
     "output_type": "stream",
     "text": [
      "User 89 w/o norm\n"
     ]
    },
    {
     "data": {
      "text/html": [
       "<div>\n",
       "<style scoped>\n",
       "    .dataframe tbody tr th:only-of-type {\n",
       "        vertical-align: middle;\n",
       "    }\n",
       "\n",
       "    .dataframe tbody tr th {\n",
       "        vertical-align: top;\n",
       "    }\n",
       "\n",
       "    .dataframe thead th {\n",
       "        text-align: right;\n",
       "    }\n",
       "</style>\n",
       "<table border=\"1\" class=\"dataframe\">\n",
       "  <thead>\n",
       "    <tr style=\"text-align: right;\">\n",
       "      <th></th>\n",
       "      <th>Unnamed: 0</th>\n",
       "      <th>4809</th>\n",
       "      <th>5136</th>\n",
       "      <th>860</th>\n",
       "      <th>5062</th>\n",
       "      <th>3525</th>\n",
       "      <th>numerator</th>\n",
       "      <th>denominator</th>\n",
       "      <th>pred</th>\n",
       "    </tr>\n",
       "  </thead>\n",
       "  <tbody>\n",
       "    <tr>\n",
       "      <td>27</td>\n",
       "      <td>238: The Godfather (1972)</td>\n",
       "      <td>5.0</td>\n",
       "      <td>5.0</td>\n",
       "      <td>5.0</td>\n",
       "      <td>NaN</td>\n",
       "      <td>4.5</td>\n",
       "      <td>10.989880</td>\n",
       "      <td>2.245525</td>\n",
       "      <td>4.894</td>\n",
       "    </tr>\n",
       "    <tr>\n",
       "      <td>33</td>\n",
       "      <td>278: The Shawshank Redemption (1994)</td>\n",
       "      <td>5.0</td>\n",
       "      <td>5.0</td>\n",
       "      <td>NaN</td>\n",
       "      <td>4.5</td>\n",
       "      <td>5.0</td>\n",
       "      <td>10.899255</td>\n",
       "      <td>2.232450</td>\n",
       "      <td>4.882</td>\n",
       "    </tr>\n",
       "    <tr>\n",
       "      <td>64</td>\n",
       "      <td>807: Seven (a.k.a. Se7en) (1995)</td>\n",
       "      <td>5.0</td>\n",
       "      <td>5.0</td>\n",
       "      <td>4.5</td>\n",
       "      <td>NaN</td>\n",
       "      <td>4.5</td>\n",
       "      <td>10.720347</td>\n",
       "      <td>2.245525</td>\n",
       "      <td>4.774</td>\n",
       "    </tr>\n",
       "  </tbody>\n",
       "</table>\n",
       "</div>"
      ],
      "text/plain": [
       "                              Unnamed: 0  4809  5136  860  5062  3525  \\\n",
       "27             238: The Godfather (1972)   5.0   5.0  5.0   NaN   4.5   \n",
       "33  278: The Shawshank Redemption (1994)   5.0   5.0  NaN   4.5   5.0   \n",
       "64      807: Seven (a.k.a. Se7en) (1995)   5.0   5.0  4.5   NaN   4.5   \n",
       "\n",
       "    numerator  denominator   pred  \n",
       "27  10.989880     2.245525  4.894  \n",
       "33  10.899255     2.232450  4.882  \n",
       "64  10.720347     2.245525  4.774  "
      ]
     },
     "execution_count": 290,
     "metadata": {},
     "output_type": "execute_result"
    }
   ],
   "source": [
    "print(f'User 89 w/o norm')\n",
    "pred_rating('89', moview_row)"
   ]
  },
  {
   "cell_type": "code",
   "execution_count": 291,
   "metadata": {},
   "outputs": [
    {
     "name": "stdout",
     "output_type": "stream",
     "text": [
      "User 89 w/ norm\n",
      "User 89 has a mean rating 4.4\n"
     ]
    },
    {
     "data": {
      "text/html": [
       "<div>\n",
       "<style scoped>\n",
       "    .dataframe tbody tr th:only-of-type {\n",
       "        vertical-align: middle;\n",
       "    }\n",
       "\n",
       "    .dataframe tbody tr th {\n",
       "        vertical-align: top;\n",
       "    }\n",
       "\n",
       "    .dataframe thead th {\n",
       "        text-align: right;\n",
       "    }\n",
       "</style>\n",
       "<table border=\"1\" class=\"dataframe\">\n",
       "  <thead>\n",
       "    <tr style=\"text-align: right;\">\n",
       "      <th></th>\n",
       "      <th>Unnamed: 0</th>\n",
       "      <th>4809</th>\n",
       "      <th>5136</th>\n",
       "      <th>860</th>\n",
       "      <th>5062</th>\n",
       "      <th>3525</th>\n",
       "      <th>numerator</th>\n",
       "      <th>denominator</th>\n",
       "      <th>pred</th>\n",
       "    </tr>\n",
       "  </thead>\n",
       "  <tbody>\n",
       "    <tr>\n",
       "      <td>27</td>\n",
       "      <td>238: The Godfather (1972)</td>\n",
       "      <td>5.0</td>\n",
       "      <td>5.0</td>\n",
       "      <td>5.0</td>\n",
       "      <td>NaN</td>\n",
       "      <td>4.5</td>\n",
       "      <td>2.076166</td>\n",
       "      <td>2.245525</td>\n",
       "      <td>5.322</td>\n",
       "    </tr>\n",
       "    <tr>\n",
       "      <td>33</td>\n",
       "      <td>278: The Shawshank Redemption (1994)</td>\n",
       "      <td>5.0</td>\n",
       "      <td>5.0</td>\n",
       "      <td>NaN</td>\n",
       "      <td>4.5</td>\n",
       "      <td>5.0</td>\n",
       "      <td>1.928810</td>\n",
       "      <td>2.232450</td>\n",
       "      <td>5.261</td>\n",
       "    </tr>\n",
       "    <tr>\n",
       "      <td>32</td>\n",
       "      <td>275: Fargo (1996)</td>\n",
       "      <td>NaN</td>\n",
       "      <td>5.0</td>\n",
       "      <td>NaN</td>\n",
       "      <td>NaN</td>\n",
       "      <td>4.5</td>\n",
       "      <td>0.875687</td>\n",
       "      <td>1.037944</td>\n",
       "      <td>5.241</td>\n",
       "    </tr>\n",
       "  </tbody>\n",
       "</table>\n",
       "</div>"
      ],
      "text/plain": [
       "                              Unnamed: 0  4809  5136  860  5062  3525  \\\n",
       "27             238: The Godfather (1972)   5.0   5.0  5.0   NaN   4.5   \n",
       "33  278: The Shawshank Redemption (1994)   5.0   5.0  NaN   4.5   5.0   \n",
       "32                     275: Fargo (1996)   NaN   5.0  NaN   NaN   4.5   \n",
       "\n",
       "    numerator  denominator   pred  \n",
       "27   2.076166     2.245525  5.322  \n",
       "33   1.928810     2.232450  5.261  \n",
       "32   0.875687     1.037944  5.241  "
      ]
     },
     "execution_count": 291,
     "metadata": {},
     "output_type": "execute_result"
    }
   ],
   "source": [
    "print(f'User 89 w/ norm')\n",
    "pred_rating_norm('89', moview_row)"
   ]
  },
  {
   "cell_type": "markdown",
   "metadata": {},
   "source": [
    "#### Selected Quiz  Questions\n",
    "Q: Which of the following would most indicate a situation where user-user collaborative filtering would be strongly preferable to content-based filtering (i.e., filtering based on user preferences of keywords or attributes)? <br>\n",
    "A: The items being recommended don’t have good attributes or keywords to describe them (e.g., user-submitted children’s drawings without tags).<br>\n",
    "\n",
    "Q: Resnick talked about resistance of collaborative filtering recommender systems to attacks from fake accounts (called sybils). Which of these statements about this problem is true<br>\n",
    "A: In order to be resistant to attacks from more sybils, you lose predictive power from genuine raters.<br>\n",
    "\n",
    "Q: User-user collaborative filtering depends on certain assumptions. Which of the following IS NOT a requirement for a successful user-user collaborative filtering system<br>\n",
    "- [x] Users mostly have similar tastes on a set of popular items, though they may have individually different tastes on unpopular items.\n",
    "- [√] User tastes must either be generally stable (individually) or if changing, they change in sync with other user’s tastes.\n",
    "- [√] Past agreement between users is predictive of future agreement -- i.e., if you and I have agreed on items before, we mostly still do now.\n",
    "- [√] The domain in which we are performing collaborative filtering is scoped such that people who agree within one part of that domain generally agree within other parts of the domain.\n",
    "\n",
    "Q: Golbeck explained that trust-based recommenders differ from similarity-based collaborative filtering in all of the following ways EXCEPT which one? (Wrong answer...)\n",
    "- [√] Trust-based systems have an underlying graph of user trust, while similarity-based systems don’t need a graph because they only use pairwise similarity scores.\n",
    "- [√] Trust-based systems are harder to get going, because it is often challenging to get trust data.\n",
    "- [√] Trust-based systems only consider ratings from users that the target user has a direct trust relationship with, and thus often use many fewer ratings in computing a prediction or recommendation\n",
    "- [x] Similarity-based collaborative filtering treats all rated items as roughly equivalent in evaluating neighbors, trust-based systems may give very strong weight to the items that a user is most passionate about.\n",
    "\n"
   ]
  },
  {
   "cell_type": "code",
   "execution_count": null,
   "metadata": {},
   "outputs": [],
   "source": []
  }
 ],
 "metadata": {
  "kernelspec": {
   "display_name": "Python 3",
   "language": "python",
   "name": "python3"
  },
  "language_info": {
   "codemirror_mode": {
    "name": "ipython",
    "version": 3
   },
   "file_extension": ".py",
   "mimetype": "text/x-python",
   "name": "python",
   "nbconvert_exporter": "python",
   "pygments_lexer": "ipython3",
   "version": "3.6.8"
  }
 },
 "nbformat": 4,
 "nbformat_minor": 2
}
